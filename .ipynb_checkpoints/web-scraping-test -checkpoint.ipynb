{
 "cells": [
  {
   "cell_type": "code",
   "execution_count": 301,
   "metadata": {},
   "outputs": [],
   "source": [
    "import requests\n",
    "import lxml.html as lh\n",
    "import pandas as pd\n",
    "\n",
    "url='https://www.immoweb.be/en/classified/house/for-sale/woluwe-saint-pierre/1150/8856902?searchId=5f51df6beef7c'\n",
    "\n",
    "#Create a handle, page, to handle the contents of the website\n",
    "page = requests.get(url)\n",
    "\n",
    "#Store the contents of the website under doc\n",
    "doc = lh.fromstring(page.content)\n",
    "\n",
    "#Parse data that are stored between <tr>..</tr> of HTML\n",
    "tr_elements = doc.xpath('//tr')\n",
    "\n",
    "el=[]\n",
    "\n",
    "for tr in tr_elements:\n",
    "    \n",
    "    name=tr.text_content()\n",
    "    el.append(name)\n",
    "\n",
    "df = {}\n",
    "\n",
    "for item in el:\n",
    "\n",
    "    items = list(filter(None, map(str.strip, item.split(\"\\n\"))))\n",
    "    \n",
    "    try:\n",
    "        df[items[0]] = items[1]\n",
    "        \n",
    "    except IndexError:\n",
    "    \n",
    "        continue    \n"
   ]
  },
  {
   "cell_type": "code",
   "execution_count": 302,
   "metadata": {},
   "outputs": [
    {
     "data": {
      "text/plain": [
       "{'Available as of': 'Depending on the tenant',\n",
       " 'Available date': 'October 30 2000 - 12:00 AM',\n",
       " 'Neighbourhood or locality': 'Est de Bruxelles + VL',\n",
       " 'Construction year': '1967',\n",
       " 'Building condition': 'As new',\n",
       " 'Street facade width': '12.6 m',\n",
       " 'Facades': '2',\n",
       " 'Covered parking spaces': '1',\n",
       " 'Living area': '485',\n",
       " 'Living room surface': '55',\n",
       " 'Kitchen type': 'Hyper equipped',\n",
       " 'Bedrooms': '6',\n",
       " 'Bedroom 1 surface': '21',\n",
       " 'Bedroom 2 surface': '18',\n",
       " 'Bedroom 3 surface': '18',\n",
       " 'Bedroom 4 surface': '14',\n",
       " 'Bedroom 5 surface': '14',\n",
       " 'Bathrooms': '3',\n",
       " 'Toilets': '4',\n",
       " 'Office surface': '19',\n",
       " 'Office': 'Yes',\n",
       " 'Work space surface': '120',\n",
       " 'Basement': 'Yes',\n",
       " 'Attic': 'Yes',\n",
       " 'Surface of the plot': '251',\n",
       " 'Connection to sewer network': 'Connected',\n",
       " 'Terrace surface': '16',\n",
       " 'E-level (primary energy consumption)': '524',\n",
       " 'Energy class': 'G',\n",
       " 'Reference number of the EPC report': '20180831-0000534375-01-7',\n",
       " 'CO² emission': '138 kg CO2/m²',\n",
       " 'Yearly theoretical total energy consumption': 'Not specified',\n",
       " 'Heating type': 'Fuel oil',\n",
       " 'Thermic solar panels': 'Yes',\n",
       " 'Double glazing': 'Yes',\n",
       " 'Total ground floor buildable': '143',\n",
       " 'Subdivision permit': 'Yes',\n",
       " 'Possible priority purchase right': 'Yes',\n",
       " 'Flood zone type': 'Non flood zone',\n",
       " 'Price': '€ 990,000',\n",
       " 'Cadastral income': '€ 5,334',\n",
       " 'Address': 'Val des Seigneurs, 9a',\n",
       " 'Website': 'http://www.sorimo.be',\n",
       " 'External reference': '4103729'}"
      ]
     },
     "execution_count": 302,
     "metadata": {},
     "output_type": "execute_result"
    }
   ],
   "source": [
    "df"
   ]
  },
  {
   "cell_type": "code",
   "execution_count": 303,
   "metadata": {},
   "outputs": [
    {
     "data": {
      "text/plain": [
       "'€ 990,000'"
      ]
     },
     "execution_count": 303,
     "metadata": {},
     "output_type": "execute_result"
    }
   ],
   "source": [
    "df['Price']"
   ]
  },
  {
   "cell_type": "code",
   "execution_count": 304,
   "metadata": {},
   "outputs": [
    {
     "data": {
      "text/plain": [
       "'2'"
      ]
     },
     "execution_count": 304,
     "metadata": {},
     "output_type": "execute_result"
    }
   ],
   "source": [
    "df['Facades']"
   ]
  },
  {
   "cell_type": "code",
   "execution_count": 305,
   "metadata": {},
   "outputs": [
    {
     "data": {
      "text/plain": [
       "'251'"
      ]
     },
     "execution_count": 305,
     "metadata": {},
     "output_type": "execute_result"
    }
   ],
   "source": [
    "df['Surface of the plot']"
   ]
  },
  {
   "cell_type": "code",
   "execution_count": 306,
   "metadata": {},
   "outputs": [
    {
     "data": {
      "text/plain": [
       "'6'"
      ]
     },
     "execution_count": 306,
     "metadata": {},
     "output_type": "execute_result"
    }
   ],
   "source": [
    "df['Bedrooms']"
   ]
  },
  {
   "cell_type": "code",
   "execution_count": 307,
   "metadata": {},
   "outputs": [
    {
     "data": {
      "text/plain": [
       "'16'"
      ]
     },
     "execution_count": 307,
     "metadata": {},
     "output_type": "execute_result"
    }
   ],
   "source": [
    "df['Terrace surface']"
   ]
  },
  {
   "cell_type": "code",
   "execution_count": 308,
   "metadata": {},
   "outputs": [
    {
     "data": {
      "text/plain": [
       "'As new'"
      ]
     },
     "execution_count": 308,
     "metadata": {},
     "output_type": "execute_result"
    }
   ],
   "source": [
    "df['Building condition']"
   ]
  },
  {
   "cell_type": "code",
   "execution_count": 254,
   "metadata": {},
   "outputs": [],
   "source": [
    "url='https://www.immoweb.be/fr/annonce/maison/a-vendre/trazegnies/6183/8643789?searchId=5f527bdd6c04b'\n",
    "\n",
    "#Create a handle, page, to handle the contents of the website\n",
    "page = requests.get(url)\n",
    "\n",
    "#Store the contents of the website under doc\n",
    "doc = lh.fromstring(page.content)\n",
    "\n",
    "#Parse data that are stored between <tr>..</tr> of HTML\n",
    "tr_elements = doc.xpath('//tr')\n",
    "\n",
    "el=[]\n",
    "\n",
    "for tr in tr_elements:\n",
    "    \n",
    "    name=tr.text_content()\n",
    "    el.append(name)\n",
    "\n",
    "df = {}\n",
    "\n",
    "for item in el:\n",
    "\n",
    "    items = list(filter(None, map(str.strip, item.split(\"\\n\"))))\n",
    "    \n",
    "    try:\n",
    "        df[items[0]] = items[1]\n",
    "        \n",
    "    except IndexError:\n",
    "    \n",
    "        continue    "
   ]
  },
  {
   "cell_type": "code",
   "execution_count": 239,
   "metadata": {
    "scrolled": true
   },
   "outputs": [
    {
     "data": {
      "text/plain": [
       "{'Disponibilité': \"À l'échange des actes\",\n",
       " 'Année de construction': '1900',\n",
       " 'État du bâtiment': 'À rénover',\n",
       " 'Largeur de façade': '5.1 m',\n",
       " 'Façades': '2',\n",
       " 'Surface habitable': '130',\n",
       " 'Surface du salon': '27',\n",
       " 'Type de cuisine': 'Semi-équipée',\n",
       " 'Chambres': '4',\n",
       " 'Surface de la chambre 1': '13',\n",
       " 'Surface de la chambre 2': '9',\n",
       " 'Surface de la chambre 3': '8',\n",
       " 'Salles de bains': '1',\n",
       " 'Salles de douche': '1',\n",
       " 'Toilettes': '1',\n",
       " 'Bureau': 'Oui',\n",
       " 'Surface de profession libérale': '15',\n",
       " 'Cave': 'Oui',\n",
       " 'Grenier': 'Oui',\n",
       " 'Surface du terrain': '320',\n",
       " \"Raccordement à l'égout\": 'Connecté',\n",
       " 'Eau, gaz & électricité': 'Oui',\n",
       " 'Terrasse': 'Oui',\n",
       " \"Niveau E (consomation d'énergie primaire)\": '347',\n",
       " 'Classe énergétique': 'E',\n",
       " 'Numéro du rapport PEB': '20180216011092',\n",
       " 'Emission CO²': '66 kg CO2/m²',\n",
       " \"Consommation théorique totale d'énergie primaire\": '46901 kWh/an',\n",
       " 'Type de chauffage': 'Gaz',\n",
       " 'Double vitrage': 'Oui',\n",
       " 'Surface constructible totale au sol': '135',\n",
       " 'Type de zone inondable': 'Zone non inondable',\n",
       " 'Affectation urbanistique la plus récente sur la base des dénominations utilisées dans le registre des plans': \"Zone d'habitat (résidentiel, urbain ou rural)\",\n",
       " 'Prix': '79.900 €',\n",
       " 'Revenu cadastral': '342 €',\n",
       " 'Adresse': 'rue de Pont-à-Celles 10',\n",
       " 'Référence externe': '3989940'}"
      ]
     },
     "execution_count": 239,
     "metadata": {},
     "output_type": "execute_result"
    }
   ],
   "source": [
    "df"
   ]
  },
  {
   "cell_type": "code",
   "execution_count": 271,
   "metadata": {},
   "outputs": [
    {
     "name": "stdout",
     "output_type": "stream",
     "text": [
      "['Surface de la terrasse', '32', 'm²', 'mètres carrés']\n"
     ]
    }
   ],
   "source": [
    "s = '\\n Surface de la terrasse\\n \\n 32\\n\\n \\n \\n m²\\n \\n \\n mètres carrés\\n \\n \\n \\n'\n",
    "print([line.strip() for line in s.split('\\n') if line.strip()])"
   ]
  },
  {
   "cell_type": "code",
   "execution_count": 279,
   "metadata": {},
   "outputs": [],
   "source": [
    "l=[]\n",
    "\n",
    "for line in s.split('\\n'):\n",
    "    if line.strip():\n",
    "        l.append()"
   ]
  },
  {
   "cell_type": "code",
   "execution_count": 280,
   "metadata": {},
   "outputs": [
    {
     "data": {
      "text/plain": [
       "['Surface de la terrasse', '32', 'm²', 'mètres carrés']"
      ]
     },
     "execution_count": 280,
     "metadata": {},
     "output_type": "execute_result"
    }
   ],
   "source": [
    "l"
   ]
  },
  {
   "cell_type": "code",
   "execution_count": 284,
   "metadata": {},
   "outputs": [
    {
     "data": {
      "text/plain": [
       "<filter at 0x7fb1ee8ed8d0>"
      ]
     },
     "execution_count": 284,
     "metadata": {},
     "output_type": "execute_result"
    }
   ],
   "source": [
    "filter(None,map(str.strip, item.split(\"\\n\")))"
   ]
  },
  {
   "cell_type": "code",
   "execution_count": null,
   "metadata": {},
   "outputs": [],
   "source": []
  },
  {
   "cell_type": "code",
   "execution_count": null,
   "metadata": {},
   "outputs": [],
   "source": [
    "list(filter(None, map(str.strip, item.split(\"\\n\"))))"
   ]
  }
 ],
 "metadata": {
  "kernelspec": {
   "display_name": "Python 3",
   "language": "python",
   "name": "python3"
  },
  "language_info": {
   "codemirror_mode": {
    "name": "ipython",
    "version": 3
   },
   "file_extension": ".py",
   "mimetype": "text/x-python",
   "name": "python",
   "nbconvert_exporter": "python",
   "pygments_lexer": "ipython3",
   "version": "3.7.6"
  }
 },
 "nbformat": 4,
 "nbformat_minor": 4
}
