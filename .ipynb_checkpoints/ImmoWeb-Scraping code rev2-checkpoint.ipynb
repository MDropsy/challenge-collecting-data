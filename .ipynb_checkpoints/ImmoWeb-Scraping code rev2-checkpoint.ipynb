{
 "cells": [
  {
   "cell_type": "code",
   "execution_count": 1,
   "metadata": {},
   "outputs": [],
   "source": [
    "import requests\n",
    "import lxml.html as lh\n",
    "import pandas as pd\n",
    "\n",
    "url=\"https://www.immoweb.be/en/classified/8917294\"\n",
    "\n",
    "#Create a handle, page, to handle the contents of the website\n",
    "page = requests.get(url)\n",
    "\n",
    "#Store the contents of the website under doc\n",
    "doc = lh.fromstring(page.content)\n",
    "\n",
    "#Parse data that are stored between <tr>..</tr> of HTML\n",
    "tr_elements = doc.xpath('//tr')\n",
    "\n",
    "el=[]\n",
    "\n",
    "for tr in tr_elements:\n",
    "    \n",
    "    name=tr.text_content()\n",
    "    el.append(name)\n",
    "\n",
    "df = {}\n",
    "\n",
    "for item in el:\n",
    "\n",
    "    items = list(filter(None, map(str.strip, item.split(\"\\n\"))))\n",
    "    \n",
    "    try:\n",
    "        df[items[0]] = items[1]\n",
    "        \n",
    "    except IndexError:\n",
    "    \n",
    "        \n",
    "        continue    "
   ]
  },
  {
   "cell_type": "code",
   "execution_count": 2,
   "metadata": {},
   "outputs": [
    {
     "data": {
      "text/plain": [
       "{'Available as of': 'Upon exchange of deeds',\n",
       " 'Property name': \"DOMAINE DE L'OBSERVATOIRE\",\n",
       " 'Neighbourhood or locality': 'OBSERVATOIRE - BOIS DE LA CAMBRE',\n",
       " 'Construction year': '2017',\n",
       " 'Floor': '1',\n",
       " 'Number of floors': '4',\n",
       " 'Building condition': 'As new',\n",
       " 'Street facade width': '20 m',\n",
       " 'Facades': '2',\n",
       " 'Covered parking spaces': '1',\n",
       " 'Living area': '65',\n",
       " 'Living room surface': '30',\n",
       " 'Dining room': 'Yes',\n",
       " 'Kitchen type': 'Hyper equipped',\n",
       " 'Bedrooms': '1',\n",
       " 'Bedroom 1 surface': '14',\n",
       " 'Dressing room': 'Yes',\n",
       " 'Bathrooms': '1',\n",
       " 'Toilets': '1',\n",
       " 'Laundry room': 'Yes',\n",
       " 'Basement surface': '5',\n",
       " 'Armored door': 'Yes',\n",
       " 'Garden surface': '25',\n",
       " 'Garden orientation': 'South',\n",
       " 'Terrace surface': '12',\n",
       " 'Terrace orientation': 'South',\n",
       " 'Caretaker': 'Yes',\n",
       " 'Elevator': 'Yes',\n",
       " 'Disabled access': 'Yes',\n",
       " 'Secure access / alarm': 'Yes',\n",
       " 'Visio phone': 'Yes',\n",
       " 'E-level (primary energy consumption)': '117',\n",
       " 'Energy class': 'C',\n",
       " 'Reference number of the EPC report': '698310-N-1-1-3-2',\n",
       " 'CO² emission': '19 kg CO2/m²',\n",
       " 'Yearly theoretical total energy consumption': 'Not specified',\n",
       " 'Heating type': 'Gas',\n",
       " 'Common heating and/or water': 'Yes',\n",
       " 'Double glazing': 'Yes',\n",
       " 'Planning permission obtained': 'Yes',\n",
       " 'Price': '€ 280,000',\n",
       " 'Cadastral income': '€ 1,500',\n",
       " 'Address': 'Avenue René Gobert 26',\n",
       " \"Agent's name\": 'Cédric Mathonnet'}"
      ]
     },
     "execution_count": 2,
     "metadata": {},
     "output_type": "execute_result"
    }
   ],
   "source": [
    "df"
   ]
  },
  {
   "cell_type": "code",
   "execution_count": 3,
   "metadata": {},
   "outputs": [],
   "source": [
    "#df['Locality']\n",
    "#df['Type of property']\n",
    "#df['Subtype of property']\n",
    "#df['Type of sale']"
   ]
  },
  {
   "cell_type": "code",
   "execution_count": 4,
   "metadata": {},
   "outputs": [],
   "source": [
    "Price = df['Price']"
   ]
  },
  {
   "cell_type": "code",
   "execution_count": 5,
   "metadata": {},
   "outputs": [],
   "source": [
    "Num_of_rooms = df['Bedrooms']"
   ]
  },
  {
   "cell_type": "code",
   "execution_count": 6,
   "metadata": {},
   "outputs": [],
   "source": [
    "Area = df['Living area']"
   ]
  },
  {
   "cell_type": "code",
   "execution_count": 7,
   "metadata": {},
   "outputs": [],
   "source": [
    "Kitchen_equipped = df['Kitchen type']"
   ]
  },
  {
   "cell_type": "code",
   "execution_count": 8,
   "metadata": {},
   "outputs": [],
   "source": [
    "try:\n",
    "    Furnished = df['Furnished']\n",
    "except:KeyError\n",
    "\n",
    "df['Furnished']= 'NA'\n",
    "Furnished = df['Furnished']"
   ]
  },
  {
   "cell_type": "code",
   "execution_count": 9,
   "metadata": {},
   "outputs": [],
   "source": [
    "try:\n",
    "    Fireplace = df['Fireplace']\n",
    "except:KeyError\n",
    "\n",
    "df['Fireplace']= 'NA'\n",
    "Fireplace = df['Fireplace']"
   ]
  },
  {
   "cell_type": "code",
   "execution_count": 10,
   "metadata": {},
   "outputs": [],
   "source": [
    "Terrace_area = df['Terrace surface']"
   ]
  },
  {
   "cell_type": "code",
   "execution_count": 11,
   "metadata": {},
   "outputs": [],
   "source": [
    "if int(df['Terrace surface'])>0:\n",
    "    df['Terrace surface'] = 1\n",
    "    Terrace = df['Terrace surface']\n",
    "else:\n",
    "    df['Terrace surface'] = 0\n",
    "    Terrace = df['Terrace surface']"
   ]
  },
  {
   "cell_type": "code",
   "execution_count": 12,
   "metadata": {},
   "outputs": [],
   "source": [
    "try:\n",
    "    Garden_area = df['Garden surface']\n",
    "except:KeyError\n",
    "df['Garden surface']= 0\n",
    "Garden_area = df['Garden surface']"
   ]
  },
  {
   "cell_type": "code",
   "execution_count": 13,
   "metadata": {},
   "outputs": [],
   "source": [
    "if int(df['Garden surface'])>0:\n",
    "    df['Garden surface'] = 1\n",
    "    Garden = df['Garden surface']\n",
    "else:\n",
    "    df['Garden surface'] = 0\n",
    "    Garden = df['Garden surface']"
   ]
  },
  {
   "cell_type": "code",
   "execution_count": 14,
   "metadata": {},
   "outputs": [],
   "source": [
    "try:\n",
    "    Land_surface = df['Surface of the the land']\n",
    "except:KeyError\n",
    "    \n",
    "df['Surface of the the land']= 'NA'\n",
    "Land_surface = df['Surface of the the land']"
   ]
  },
  {
   "cell_type": "code",
   "execution_count": 15,
   "metadata": {},
   "outputs": [],
   "source": [
    "try:\n",
    "    Plot_surface = df['Surface of the plot']\n",
    "except:KeyError\n",
    "df['Surface of the plot'] = 'NA'\n",
    "Plot_surface = df['Surface of the plot']"
   ]
  },
  {
   "cell_type": "code",
   "execution_count": 16,
   "metadata": {},
   "outputs": [],
   "source": [
    "Facades = df['Facades']"
   ]
  },
  {
   "cell_type": "code",
   "execution_count": 17,
   "metadata": {},
   "outputs": [],
   "source": [
    "try:\n",
    "    Swimming_pool = df['Swimming pool']\n",
    "except:KeyError\n",
    "df['Swimming pool']= 'NA'\n",
    "Swimming_pool = df['Swimming pool']"
   ]
  },
  {
   "cell_type": "code",
   "execution_count": 18,
   "metadata": {},
   "outputs": [],
   "source": [
    "Building_condition = df['Building condition']"
   ]
  },
  {
   "cell_type": "code",
   "execution_count": 19,
   "metadata": {},
   "outputs": [],
   "source": [
    "data = pd.DataFrame({\n",
    "                        'Price': Price,\n",
    "                        'Bedrooms': Num_of_rooms,\n",
    "                        'Area': Area,\n",
    "                        'Kitchen_equipped': Kitchen_equipped,\n",
    "                        'Furnished': Furnished,\n",
    "                        'Fireplace': Fireplace,\n",
    "                        'Terrace_area': Terrace_area,\n",
    "                        'Terrace': Terrace,\n",
    "                        'Garden_area': Garden_area,\n",
    "                        'Garden': Garden,\n",
    "                        'Land_surface': Land_surface,\n",
    "                        'Plot_surface': Plot_surface,\n",
    "                        'Facades': Facades,\n",
    "                        'Swimming_pool': Swimming_pool,\n",
    "                        'Building_condition': Building_condition,\n",
    "    \n",
    "                    },index=[0])"
   ]
  },
  {
   "cell_type": "code",
   "execution_count": 20,
   "metadata": {},
   "outputs": [
    {
     "data": {
      "text/html": [
       "<div>\n",
       "<style scoped>\n",
       "    .dataframe tbody tr th:only-of-type {\n",
       "        vertical-align: middle;\n",
       "    }\n",
       "\n",
       "    .dataframe tbody tr th {\n",
       "        vertical-align: top;\n",
       "    }\n",
       "\n",
       "    .dataframe thead th {\n",
       "        text-align: right;\n",
       "    }\n",
       "</style>\n",
       "<table border=\"1\" class=\"dataframe\">\n",
       "  <thead>\n",
       "    <tr style=\"text-align: right;\">\n",
       "      <th></th>\n",
       "      <th>Price</th>\n",
       "      <th>Bedrooms</th>\n",
       "      <th>Area</th>\n",
       "      <th>Kitchen_equipped</th>\n",
       "      <th>Furnished</th>\n",
       "      <th>Fireplace</th>\n",
       "      <th>Terrace_area</th>\n",
       "      <th>Terrace</th>\n",
       "      <th>Garden_area</th>\n",
       "      <th>Garden</th>\n",
       "      <th>Land_surface</th>\n",
       "      <th>Plot_surface</th>\n",
       "      <th>Facades</th>\n",
       "      <th>Swimming_pool</th>\n",
       "      <th>Building_condition</th>\n",
       "    </tr>\n",
       "  </thead>\n",
       "  <tbody>\n",
       "    <tr>\n",
       "      <th>0</th>\n",
       "      <td>€ 280,000</td>\n",
       "      <td>1</td>\n",
       "      <td>65</td>\n",
       "      <td>Hyper equipped</td>\n",
       "      <td>NA</td>\n",
       "      <td>NA</td>\n",
       "      <td>12</td>\n",
       "      <td>1</td>\n",
       "      <td>0</td>\n",
       "      <td>0</td>\n",
       "      <td>NA</td>\n",
       "      <td>NA</td>\n",
       "      <td>2</td>\n",
       "      <td>NA</td>\n",
       "      <td>As new</td>\n",
       "    </tr>\n",
       "  </tbody>\n",
       "</table>\n",
       "</div>"
      ],
      "text/plain": [
       "       Price Bedrooms Area Kitchen_equipped Furnished Fireplace Terrace_area  \\\n",
       "0  € 280,000        1   65   Hyper equipped        NA        NA           12   \n",
       "\n",
       "   Terrace  Garden_area  Garden Land_surface Plot_surface Facades  \\\n",
       "0        1            0       0           NA           NA       2   \n",
       "\n",
       "  Swimming_pool Building_condition  \n",
       "0            NA             As new  "
      ]
     },
     "execution_count": 20,
     "metadata": {},
     "output_type": "execute_result"
    }
   ],
   "source": [
    "data"
   ]
  },
  {
   "cell_type": "code",
   "execution_count": 21,
   "metadata": {},
   "outputs": [
    {
     "data": {
      "text/plain": [
       "{'Available as of': 'Upon exchange of deeds',\n",
       " 'Property name': 'Résidence Domaine des Fleuves',\n",
       " 'Neighbourhood or locality': 'WOLUWE - MARCEL THIRY - JEAN MONNET',\n",
       " 'Construction year': '2008',\n",
       " 'Floor': '2',\n",
       " 'Number of floors': '4',\n",
       " 'Building condition': 'Good',\n",
       " 'Facades': '2',\n",
       " 'Covered parking spaces': '1',\n",
       " 'Living area': '125',\n",
       " 'Living room surface': '40',\n",
       " 'Kitchen type': 'USA hyper equipped',\n",
       " 'Bedrooms': '3',\n",
       " 'Bedroom 1 surface': '15',\n",
       " 'Bedroom 2 surface': '14',\n",
       " 'Bedroom 3 surface': '9',\n",
       " 'Bathrooms': '2',\n",
       " 'Shower rooms': '1',\n",
       " 'Toilets': '2',\n",
       " 'Laundry room': 'Yes',\n",
       " 'Basement': 'Yes',\n",
       " 'Armored door': 'Yes',\n",
       " 'Terrace surface': 1,\n",
       " 'Terrace orientation': 'South East',\n",
       " 'Elevator': 'Yes',\n",
       " 'Intercom': 'Yes',\n",
       " 'Visio phone': 'Yes',\n",
       " 'E-level (primary energy consumption)': '107',\n",
       " 'Energy class': 'C',\n",
       " 'Reference number of the EPC report': 'C+',\n",
       " 'CO² emission': '21 kg CO2/m²',\n",
       " 'Yearly theoretical total energy consumption': 'Not specified',\n",
       " 'Heating type': 'Gas',\n",
       " 'Common heating and/or water': 'Yes',\n",
       " 'Double glazing': 'Yes',\n",
       " 'Price': '€ 425,000',\n",
       " 'Cadastral income': '€ 2,175',\n",
       " 'Address': 'Rue Saint Bernard 61-65 (boite 5)',\n",
       " 'Website': 'http://www.montois-immobilier.com',\n",
       " 'Furnished': 'NA',\n",
       " 'Fireplace': 'NA',\n",
       " 'Garden surface': 0,\n",
       " 'Surface of the the land': 'NA',\n",
       " 'Surface of the plot': 'NA',\n",
       " 'Swimming pool': 'NA'}"
      ]
     },
     "execution_count": 21,
     "metadata": {},
     "output_type": "execute_result"
    }
   ],
   "source": [
    "df"
   ]
  },
  {
   "cell_type": "code",
   "execution_count": null,
   "metadata": {},
   "outputs": [],
   "source": []
  }
 ],
 "metadata": {
  "kernelspec": {
   "display_name": "Python 3",
   "language": "python",
   "name": "python3"
  },
  "language_info": {
   "codemirror_mode": {
    "name": "ipython",
    "version": 3
   },
   "file_extension": ".py",
   "mimetype": "text/x-python",
   "name": "python",
   "nbconvert_exporter": "python",
   "pygments_lexer": "ipython3",
   "version": "3.7.6"
  }
 },
 "nbformat": 4,
 "nbformat_minor": 4
}
